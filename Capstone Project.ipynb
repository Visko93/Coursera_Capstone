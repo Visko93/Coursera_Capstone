{
    "cells": [
        {
            "cell_type": "markdown",
            "metadata": {
                "collapsed": true
            },
            "source": "This Notebook will be use to complete the capstone project on IBM's Applied Data Science Course."
        },
        {
            "cell_type": "code",
            "execution_count": 3,
            "metadata": {},
            "outputs": [
                {
                    "name": "stdout",
                    "output_type": "stream",
                    "text": "Requirement already satisfied: pandas in /opt/conda/envs/Python36/lib/python3.6/site-packages (0.24.1)\nRequirement already satisfied: pytz>=2011k in /opt/conda/envs/Python36/lib/python3.6/site-packages (from pandas) (2018.9)\nRequirement already satisfied: python-dateutil>=2.5.0 in /opt/conda/envs/Python36/lib/python3.6/site-packages (from pandas) (2.7.5)\nRequirement already satisfied: numpy>=1.12.0 in /opt/conda/envs/Python36/lib/python3.6/site-packages (from pandas) (1.15.4)\nRequirement already satisfied: six>=1.5 in /opt/conda/envs/Python36/lib/python3.6/site-packages (from python-dateutil>=2.5.0->pandas) (1.12.0)\nRequirement already satisfied: numpy in /opt/conda/envs/Python36/lib/python3.6/site-packages (1.15.4)\nRequirement already satisfied: scipy in /opt/conda/envs/Python36/lib/python3.6/site-packages (1.2.0)\nRequirement already satisfied: matplotlib in /opt/conda/envs/Python36/lib/python3.6/site-packages (3.0.2)\nRequirement already satisfied: ipython in /opt/conda/envs/Python36/lib/python3.6/site-packages (7.2.0)\nRequirement already satisfied: jupyter in /opt/conda/envs/Python36/lib/python3.6/site-packages (1.0.0)\nRequirement already satisfied: pandas in /opt/conda/envs/Python36/lib/python3.6/site-packages (0.24.1)\nRequirement already satisfied: sympy in /opt/conda/envs/Python36/lib/python3.6/site-packages (1.3)\nRequirement already satisfied: nose in /opt/conda/envs/Python36/lib/python3.6/site-packages (1.3.7)\nRequirement already satisfied: cycler>=0.10 in /opt/conda/envs/Python36/lib/python3.6/site-packages (from matplotlib) (0.10.0)\nRequirement already satisfied: kiwisolver>=1.0.1 in /opt/conda/envs/Python36/lib/python3.6/site-packages (from matplotlib) (1.0.1)\nRequirement already satisfied: pyparsing!=2.0.4,!=2.1.2,!=2.1.6,>=2.0.1 in /opt/conda/envs/Python36/lib/python3.6/site-packages (from matplotlib) (2.3.1)\nRequirement already satisfied: python-dateutil>=2.1 in /opt/conda/envs/Python36/lib/python3.6/site-packages (from matplotlib) (2.7.5)\nRequirement already satisfied: traitlets>=4.2 in /opt/conda/envs/Python36/lib/python3.6/site-packages (from ipython) (4.3.2)\nRequirement already satisfied: jedi>=0.10 in /opt/conda/envs/Python36/lib/python3.6/site-packages (from ipython) (0.13.2)\nRequirement already satisfied: pexpect; sys_platform != \"win32\" in /opt/conda/envs/Python36/lib/python3.6/site-packages (from ipython) (4.6.0)\nRequirement already satisfied: backcall in /opt/conda/envs/Python36/lib/python3.6/site-packages (from ipython) (0.1.0)\nRequirement already satisfied: pygments in /opt/conda/envs/Python36/lib/python3.6/site-packages (from ipython) (2.3.1)\nRequirement already satisfied: decorator in /opt/conda/envs/Python36/lib/python3.6/site-packages (from ipython) (4.3.2)\nRequirement already satisfied: setuptools>=18.5 in /opt/conda/envs/Python36/lib/python3.6/site-packages (from ipython) (40.8.0)\nRequirement already satisfied: prompt-toolkit<2.1.0,>=2.0.0 in /opt/conda/envs/Python36/lib/python3.6/site-packages (from ipython) (2.0.8)\nRequirement already satisfied: pickleshare in /opt/conda/envs/Python36/lib/python3.6/site-packages (from ipython) (0.7.5)\nRequirement already satisfied: jupyter-console in /opt/conda/envs/Python36/lib/python3.6/site-packages (from jupyter) (6.0.0)\nRequirement already satisfied: ipykernel in /opt/conda/envs/Python36/lib/python3.6/site-packages (from jupyter) (5.1.0)\nRequirement already satisfied: qtconsole in /opt/conda/envs/Python36/lib/python3.6/site-packages (from jupyter) (4.4.3)\nRequirement already satisfied: ipywidgets in /opt/conda/envs/Python36/lib/python3.6/site-packages (from jupyter) (7.4.2)\nRequirement already satisfied: notebook in /opt/conda/envs/Python36/lib/python3.6/site-packages (from jupyter) (5.7.8)\nRequirement already satisfied: nbconvert in /opt/conda/envs/Python36/lib/python3.6/site-packages (from jupyter) (5.4.0)\nRequirement already satisfied: pytz>=2011k in /opt/conda/envs/Python36/lib/python3.6/site-packages (from pandas) (2018.9)\nRequirement already satisfied: six in /opt/conda/envs/Python36/lib/python3.6/site-packages (from cycler>=0.10->matplotlib) (1.12.0)\nRequirement already satisfied: ipython-genutils in /opt/conda/envs/Python36/lib/python3.6/site-packages (from traitlets>=4.2->ipython) (0.2.0)\nRequirement already satisfied: parso>=0.3.0 in /opt/conda/envs/Python36/lib/python3.6/site-packages (from jedi>=0.10->ipython) (0.3.2)\nRequirement already satisfied: ptyprocess>=0.5 in /opt/conda/envs/Python36/lib/python3.6/site-packages (from pexpect; sys_platform != \"win32\"->ipython) (0.6.0)\nRequirement already satisfied: wcwidth in /opt/conda/envs/Python36/lib/python3.6/site-packages (from prompt-toolkit<2.1.0,>=2.0.0->ipython) (0.1.7)\nRequirement already satisfied: jupyter_client in /opt/conda/envs/Python36/lib/python3.6/site-packages (from jupyter-console->jupyter) (5.2.4)\nRequirement already satisfied: tornado>=4.2 in /opt/conda/envs/Python36/lib/python3.6/site-packages (from ipykernel->jupyter) (5.1.1)\nRequirement already satisfied: jupyter_core in /opt/conda/envs/Python36/lib/python3.6/site-packages (from qtconsole->jupyter) (4.4.0)\nRequirement already satisfied: nbformat>=4.2.0 in /opt/conda/envs/Python36/lib/python3.6/site-packages (from ipywidgets->jupyter) (4.4.0)\nRequirement already satisfied: widgetsnbextension~=3.4.0 in /opt/conda/envs/Python36/lib/python3.6/site-packages (from ipywidgets->jupyter) (3.4.2)\nRequirement already satisfied: jinja2 in /opt/conda/envs/Python36/lib/python3.6/site-packages (from notebook->jupyter) (2.10)\nRequirement already satisfied: terminado>=0.8.1 in /opt/conda/envs/Python36/lib/python3.6/site-packages (from notebook->jupyter) (0.8.1)\nRequirement already satisfied: pyzmq>=17 in /opt/conda/envs/Python36/lib/python3.6/site-packages (from notebook->jupyter) (17.1.2)\nRequirement already satisfied: Send2Trash in /opt/conda/envs/Python36/lib/python3.6/site-packages (from notebook->jupyter) (1.5.0)\nRequirement already satisfied: prometheus-client in /opt/conda/envs/Python36/lib/python3.6/site-packages (from notebook->jupyter) (0.5.0)\nRequirement already satisfied: mistune>=0.8.1 in /opt/conda/envs/Python36/lib/python3.6/site-packages (from nbconvert->jupyter) (0.8.4)\nRequirement already satisfied: entrypoints>=0.2.2 in /opt/conda/envs/Python36/lib/python3.6/site-packages (from nbconvert->jupyter) (0.3)\nRequirement already satisfied: bleach in /opt/conda/envs/Python36/lib/python3.6/site-packages (from nbconvert->jupyter) (3.1.0)\nRequirement already satisfied: pandocfilters>=1.4.1 in /opt/conda/envs/Python36/lib/python3.6/site-packages (from nbconvert->jupyter) (1.4.2)\nRequirement already satisfied: testpath in /opt/conda/envs/Python36/lib/python3.6/site-packages (from nbconvert->jupyter) (0.4.2)\nRequirement already satisfied: defusedxml in /opt/conda/envs/Python36/lib/python3.6/site-packages (from nbconvert->jupyter) (0.5.0)\nRequirement already satisfied: jsonschema!=2.5.0,>=2.4 in /opt/conda/envs/Python36/lib/python3.6/site-packages (from nbformat>=4.2.0->ipywidgets->jupyter) (2.6.0)\nRequirement already satisfied: MarkupSafe>=0.23 in /opt/conda/envs/Python36/lib/python3.6/site-packages (from jinja2->notebook->jupyter) (1.1.0)\nRequirement already satisfied: webencodings in /opt/conda/envs/Python36/lib/python3.6/site-packages (from bleach->nbconvert->jupyter) (0.5.1)\n"
                }
            ],
            "source": "!pip install pandas\n!python -m pip install --user numpy scipy matplotlib ipython jupyter pandas sympy nose\n"
        },
        {
            "cell_type": "code",
            "execution_count": 5,
            "metadata": {},
            "outputs": [
                {
                    "name": "stdout",
                    "output_type": "stream",
                    "text": "Hello Capstone Project Course!\n"
                }
            ],
            "source": "import pandas as pd\nimport numpy  as np\n\nprint(\"Hello Capstone Project Course!\")"
        },
        {
            "cell_type": "code",
            "execution_count": null,
            "metadata": {},
            "outputs": [],
            "source": ""
        }
    ],
    "metadata": {
        "kernelspec": {
            "display_name": "Python 3.6",
            "language": "python",
            "name": "python3"
        },
        "language_info": {
            "codemirror_mode": {
                "name": "ipython",
                "version": 3
            },
            "file_extension": ".py",
            "mimetype": "text/x-python",
            "name": "python",
            "nbconvert_exporter": "python",
            "pygments_lexer": "ipython3",
            "version": "3.6.8"
        }
    },
    "nbformat": 4,
    "nbformat_minor": 1
}